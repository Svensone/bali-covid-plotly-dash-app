{
 "metadata": {
  "language_info": {
   "codemirror_mode": {
    "name": "ipython",
    "version": 3
   },
   "file_extension": ".py",
   "mimetype": "text/x-python",
   "name": "python",
   "nbconvert_exporter": "python",
   "pygments_lexer": "ipython3",
   "version": "3.7.6-final"
  },
  "orig_nbformat": 2,
  "kernelspec": {
   "name": "python3",
   "display_name": "Python 3",
   "language": "python"
  }
 },
 "nbformat": 4,
 "nbformat_minor": 2,
 "cells": [
  {
   "cell_type": "code",
   "execution_count": 1,
   "metadata": {},
   "outputs": [],
   "source": [
    "import pandas as pd\n",
    "import json\n",
    "import urllib.request\n",
    "\n",
    "import plotly.express as px"
   ]
  },
  {
   "cell_type": "code",
   "execution_count": 14,
   "metadata": {},
   "outputs": [],
   "source": [
    "## 1.  get covid data for germany, state Baden-Wuerttember\n",
    "\n",
    "df = pd.read_csv('2020-12-10_RKI_Corona_Landkreise.csv')\n",
    "df_BW = df[df['BL'] == 'Baden-Württemberg']\n"
   ]
  },
  {
   "cell_type": "code",
   "execution_count": 22,
   "metadata": {},
   "outputs": [
    {
     "output_type": "execute_result",
     "data": {
      "text/plain": [
       "{'ID_0': 86,\n",
       " 'ISO': 'DEU',\n",
       " 'NAME_0': 'Germany',\n",
       " 'ID_1': 9,\n",
       " 'NAME_1': 'Niedersachsen',\n",
       " 'ID_2': 23,\n",
       " 'NAME_2': 'Weser-Ems',\n",
       " 'ID_3': 244,\n",
       " 'NAME_3': 'Oldenburg',\n",
       " 'NL_NAME_3': None,\n",
       " 'VARNAME_3': None,\n",
       " 'TYPE_3': 'Landkreise',\n",
       " 'ENGTYPE_3': 'Rural district'}"
      ]
     },
     "metadata": {},
     "execution_count": 22
    }
   ],
   "source": [
    "## 2. get geojson\n",
    "\n",
    "url = 'https://raw.githubusercontent.com/isellsoap/deutschlandGeoJSON/master/4_kreise/3_mittel.geo.json'\n",
    "\n",
    "with urllib.request.urlopen(url) as file:\n",
    "    geojson = json.load(file)\n",
    "# geojson['features'][0]['properties']"
   ]
  },
  {
   "cell_type": "code",
   "execution_count": 24,
   "metadata": {},
   "outputs": [],
   "source": [
    "with open('geojson_ger.json', 'w') as file:\n",
    "    json.dump(geojson, file)"
   ]
  },
  {
   "cell_type": "code",
   "execution_count": 28,
   "metadata": {},
   "outputs": [
    {
     "output_type": "execute_result",
     "data": {
      "text/plain": [
       "{'Ostalbkreis': 17,\n",
       " 'Rems-Murr-Kreis': 18,\n",
       " 'Schwäbisch Hall': 19,\n",
       " 'Stuttgart Städte': 20,\n",
       " 'Alb-Donau': 21,\n",
       " 'Biberach': 22,\n",
       " 'Bodensee': 23,\n",
       " 'Ravensburg': 24,\n",
       " 'Reutlingen': 25,\n",
       " 'Sigmaringen': 26,\n",
       " 'Tübingen': 27,\n",
       " 'Ulm Städte': 28,\n",
       " 'Zollernalbkreis': 29,\n",
       " 'Breisgau-Hochschwarzwald': 35,\n",
       " 'Emmendingen': 36,\n",
       " 'Freiburg': 37,\n",
       " 'Konstanz': 38,\n",
       " 'Lörrach': 39,\n",
       " 'Ortenaukreis': 40,\n",
       " 'Rottweil': 41,\n",
       " 'Schwarzwald-Baar-Kreis': 42,\n",
       " 'Tuttlingen': 43,\n",
       " 'Waldshut': 44,\n",
       " 'Baden-Baden Städte': 45,\n",
       " 'Calw': 46,\n",
       " 'Enz': 47,\n",
       " 'Freudenstadt': 48,\n",
       " 'Heidelberg Städte': 49,\n",
       " 'Karlsruhe Städte': 50,\n",
       " 'Karlsruhe': 51,\n",
       " 'Mannheim Städte': 52,\n",
       " 'Neckar-Odenwald-Kreis': 53,\n",
       " 'Pforzheim Städte': 54,\n",
       " 'Rastatt': 55,\n",
       " 'Rhein-Neckar-Kreis': 56,\n",
       " 'Böblingen': 57,\n",
       " 'Esslingen': 58,\n",
       " 'Göppingen': 59,\n",
       " 'Heidenheim': 60,\n",
       " 'Heilbronn city Städte': 61,\n",
       " 'Heilbronn': 62,\n",
       " 'Hohenlohe': 63,\n",
       " 'Ludwigsburg': 64,\n",
       " 'Main-Tauber': 65}"
      ]
     },
     "metadata": {},
     "execution_count": 28
    }
   ],
   "source": [
    "# county_id_map to add feature.id value to df\n",
    "county_id = {}\n",
    "\n",
    "for county in geojson['features']:\n",
    "    if county['properties']['NAME_1'] == 'Baden-Württemberg':\n",
    "        county_id[county['properties']['NAME_3']] = county['id']\n",
    "    else:\n",
    "        continue\n",
    "county_id"
   ]
  },
  {
   "cell_type": "code",
   "execution_count": 29,
   "metadata": {},
   "outputs": [
    {
     "output_type": "execute_result",
     "data": {
      "text/plain": [
       "     OBJECTID  ADE   GF  BSG    RS     AGS        SDV_RS  \\\n",
       "178       179  4.0  4.0  1.0  8111  8111.0  8.111000e+10   \n",
       "186       187  4.0  4.0  1.0  8126  8126.0  8.126500e+10   \n",
       "188       189  4.0  4.0  1.0  8128  8128.0  8.128500e+10   \n",
       "191       192  4.0  4.0  1.0  8211  8211.0  8.211000e+10   \n",
       "195       196  4.0  4.0  1.0  8221  8221.0  8.221000e+10   \n",
       "196       197  4.0  4.0  1.0  8222  8222.0  8.222000e+10   \n",
       "199       200  4.0  4.0  1.0  8231  8231.0  8.231000e+10   \n",
       "201       202  4.0  4.0  1.0  8236  8236.0  8.231000e+10   \n",
       "203       204  4.0  4.0  1.0  8311  8311.0  8.311000e+10   \n",
       "216       217  4.0  4.0  1.0  8421  8421.0  8.421000e+10   \n",
       "217       218  4.0  4.0  1.0  8425  8425.0  8.421000e+10   \n",
       "219       220  4.0  4.0  1.0  8435  8435.0  8.435500e+10   \n",
       "\n",
       "                      GEN         BEZ   IBZ  ...    EWZ_BL cases7_bl_per_100k  \\\n",
       "178             Stuttgart  Stadtkreis  41.0  ...  11100394         160.264582   \n",
       "186        Hohenlohekreis   Landkreis  43.0  ...  11100394         160.264582   \n",
       "188     Main-Tauber-Kreis   Landkreis  43.0  ...  11100394         160.264582   \n",
       "191           Baden-Baden  Stadtkreis  41.0  ...  11100394         160.264582   \n",
       "195            Heidelberg  Stadtkreis  41.0  ...  11100394         160.264582   \n",
       "196              Mannheim  Stadtkreis  41.0  ...  11100394         160.264582   \n",
       "199             Pforzheim  Stadtkreis  41.0  ...  11100394         160.264582   \n",
       "201              Enzkreis   Landkreis  43.0  ...  11100394         160.264582   \n",
       "203  Freiburg im Breisgau  Stadtkreis  41.0  ...  11100394         160.264582   \n",
       "216                   Ulm  Stadtkreis  41.0  ...  11100394         160.264582   \n",
       "217       Alb-Donau-Kreis   Landkreis  43.0  ...  11100394         160.264582   \n",
       "219         Bodenseekreis   Landkreis  43.0  ...  11100394         160.264582   \n",
       "\n",
       "     cases7_bl  death7_bl  cases7_lk  death7_lk  cases7_per_100k_txt  \\\n",
       "178      17790         54        821          1                129,1   \n",
       "186      17790         54        113          0                100,3   \n",
       "188      17790         54        129          0                 97,4   \n",
       "191      17790         54         78          0                141,3   \n",
       "195      17790         54        215          0                133,1   \n",
       "196      17790         54        742          3                238,8   \n",
       "199      17790         54        425          0                337,4   \n",
       "201      17790         54        429          0                215,0   \n",
       "203      17790         54        281          0                121,5   \n",
       "216      17790         54        267          0                210,6   \n",
       "217      17790         54        263          2                133,5   \n",
       "219      17790         54        205          0                 94,3   \n",
       "\n",
       "     SHAPE_Length SHAPE_Area id  \n",
       "178      1.104434   0.025666  0  \n",
       "186      2.676240   0.096020  0  \n",
       "188      4.164259   0.162179  0  \n",
       "191      1.120988   0.017119  0  \n",
       "195      0.794227   0.013540  0  \n",
       "196      0.749616   0.018012  0  \n",
       "199      0.668242   0.012038  0  \n",
       "201      2.630518   0.070336  0  \n",
       "203      1.022032   0.018581  0  \n",
       "216      1.046278   0.014493  0  \n",
       "217      4.607931   0.164854  0  \n",
       "219      2.244383   0.079777  0  \n",
       "\n",
       "[12 rows x 47 columns]"
      ],
      "text/html": "<div>\n<style scoped>\n    .dataframe tbody tr th:only-of-type {\n        vertical-align: middle;\n    }\n\n    .dataframe tbody tr th {\n        vertical-align: top;\n    }\n\n    .dataframe thead th {\n        text-align: right;\n    }\n</style>\n<table border=\"1\" class=\"dataframe\">\n  <thead>\n    <tr style=\"text-align: right;\">\n      <th></th>\n      <th>OBJECTID</th>\n      <th>ADE</th>\n      <th>GF</th>\n      <th>BSG</th>\n      <th>RS</th>\n      <th>AGS</th>\n      <th>SDV_RS</th>\n      <th>GEN</th>\n      <th>BEZ</th>\n      <th>IBZ</th>\n      <th>...</th>\n      <th>EWZ_BL</th>\n      <th>cases7_bl_per_100k</th>\n      <th>cases7_bl</th>\n      <th>death7_bl</th>\n      <th>cases7_lk</th>\n      <th>death7_lk</th>\n      <th>cases7_per_100k_txt</th>\n      <th>SHAPE_Length</th>\n      <th>SHAPE_Area</th>\n      <th>id</th>\n    </tr>\n  </thead>\n  <tbody>\n    <tr>\n      <th>178</th>\n      <td>179</td>\n      <td>4.0</td>\n      <td>4.0</td>\n      <td>1.0</td>\n      <td>8111</td>\n      <td>8111.0</td>\n      <td>8.111000e+10</td>\n      <td>Stuttgart</td>\n      <td>Stadtkreis</td>\n      <td>41.0</td>\n      <td>...</td>\n      <td>11100394</td>\n      <td>160.264582</td>\n      <td>17790</td>\n      <td>54</td>\n      <td>821</td>\n      <td>1</td>\n      <td>129,1</td>\n      <td>1.104434</td>\n      <td>0.025666</td>\n      <td>0</td>\n    </tr>\n    <tr>\n      <th>186</th>\n      <td>187</td>\n      <td>4.0</td>\n      <td>4.0</td>\n      <td>1.0</td>\n      <td>8126</td>\n      <td>8126.0</td>\n      <td>8.126500e+10</td>\n      <td>Hohenlohekreis</td>\n      <td>Landkreis</td>\n      <td>43.0</td>\n      <td>...</td>\n      <td>11100394</td>\n      <td>160.264582</td>\n      <td>17790</td>\n      <td>54</td>\n      <td>113</td>\n      <td>0</td>\n      <td>100,3</td>\n      <td>2.676240</td>\n      <td>0.096020</td>\n      <td>0</td>\n    </tr>\n    <tr>\n      <th>188</th>\n      <td>189</td>\n      <td>4.0</td>\n      <td>4.0</td>\n      <td>1.0</td>\n      <td>8128</td>\n      <td>8128.0</td>\n      <td>8.128500e+10</td>\n      <td>Main-Tauber-Kreis</td>\n      <td>Landkreis</td>\n      <td>43.0</td>\n      <td>...</td>\n      <td>11100394</td>\n      <td>160.264582</td>\n      <td>17790</td>\n      <td>54</td>\n      <td>129</td>\n      <td>0</td>\n      <td>97,4</td>\n      <td>4.164259</td>\n      <td>0.162179</td>\n      <td>0</td>\n    </tr>\n    <tr>\n      <th>191</th>\n      <td>192</td>\n      <td>4.0</td>\n      <td>4.0</td>\n      <td>1.0</td>\n      <td>8211</td>\n      <td>8211.0</td>\n      <td>8.211000e+10</td>\n      <td>Baden-Baden</td>\n      <td>Stadtkreis</td>\n      <td>41.0</td>\n      <td>...</td>\n      <td>11100394</td>\n      <td>160.264582</td>\n      <td>17790</td>\n      <td>54</td>\n      <td>78</td>\n      <td>0</td>\n      <td>141,3</td>\n      <td>1.120988</td>\n      <td>0.017119</td>\n      <td>0</td>\n    </tr>\n    <tr>\n      <th>195</th>\n      <td>196</td>\n      <td>4.0</td>\n      <td>4.0</td>\n      <td>1.0</td>\n      <td>8221</td>\n      <td>8221.0</td>\n      <td>8.221000e+10</td>\n      <td>Heidelberg</td>\n      <td>Stadtkreis</td>\n      <td>41.0</td>\n      <td>...</td>\n      <td>11100394</td>\n      <td>160.264582</td>\n      <td>17790</td>\n      <td>54</td>\n      <td>215</td>\n      <td>0</td>\n      <td>133,1</td>\n      <td>0.794227</td>\n      <td>0.013540</td>\n      <td>0</td>\n    </tr>\n    <tr>\n      <th>196</th>\n      <td>197</td>\n      <td>4.0</td>\n      <td>4.0</td>\n      <td>1.0</td>\n      <td>8222</td>\n      <td>8222.0</td>\n      <td>8.222000e+10</td>\n      <td>Mannheim</td>\n      <td>Stadtkreis</td>\n      <td>41.0</td>\n      <td>...</td>\n      <td>11100394</td>\n      <td>160.264582</td>\n      <td>17790</td>\n      <td>54</td>\n      <td>742</td>\n      <td>3</td>\n      <td>238,8</td>\n      <td>0.749616</td>\n      <td>0.018012</td>\n      <td>0</td>\n    </tr>\n    <tr>\n      <th>199</th>\n      <td>200</td>\n      <td>4.0</td>\n      <td>4.0</td>\n      <td>1.0</td>\n      <td>8231</td>\n      <td>8231.0</td>\n      <td>8.231000e+10</td>\n      <td>Pforzheim</td>\n      <td>Stadtkreis</td>\n      <td>41.0</td>\n      <td>...</td>\n      <td>11100394</td>\n      <td>160.264582</td>\n      <td>17790</td>\n      <td>54</td>\n      <td>425</td>\n      <td>0</td>\n      <td>337,4</td>\n      <td>0.668242</td>\n      <td>0.012038</td>\n      <td>0</td>\n    </tr>\n    <tr>\n      <th>201</th>\n      <td>202</td>\n      <td>4.0</td>\n      <td>4.0</td>\n      <td>1.0</td>\n      <td>8236</td>\n      <td>8236.0</td>\n      <td>8.231000e+10</td>\n      <td>Enzkreis</td>\n      <td>Landkreis</td>\n      <td>43.0</td>\n      <td>...</td>\n      <td>11100394</td>\n      <td>160.264582</td>\n      <td>17790</td>\n      <td>54</td>\n      <td>429</td>\n      <td>0</td>\n      <td>215,0</td>\n      <td>2.630518</td>\n      <td>0.070336</td>\n      <td>0</td>\n    </tr>\n    <tr>\n      <th>203</th>\n      <td>204</td>\n      <td>4.0</td>\n      <td>4.0</td>\n      <td>1.0</td>\n      <td>8311</td>\n      <td>8311.0</td>\n      <td>8.311000e+10</td>\n      <td>Freiburg im Breisgau</td>\n      <td>Stadtkreis</td>\n      <td>41.0</td>\n      <td>...</td>\n      <td>11100394</td>\n      <td>160.264582</td>\n      <td>17790</td>\n      <td>54</td>\n      <td>281</td>\n      <td>0</td>\n      <td>121,5</td>\n      <td>1.022032</td>\n      <td>0.018581</td>\n      <td>0</td>\n    </tr>\n    <tr>\n      <th>216</th>\n      <td>217</td>\n      <td>4.0</td>\n      <td>4.0</td>\n      <td>1.0</td>\n      <td>8421</td>\n      <td>8421.0</td>\n      <td>8.421000e+10</td>\n      <td>Ulm</td>\n      <td>Stadtkreis</td>\n      <td>41.0</td>\n      <td>...</td>\n      <td>11100394</td>\n      <td>160.264582</td>\n      <td>17790</td>\n      <td>54</td>\n      <td>267</td>\n      <td>0</td>\n      <td>210,6</td>\n      <td>1.046278</td>\n      <td>0.014493</td>\n      <td>0</td>\n    </tr>\n    <tr>\n      <th>217</th>\n      <td>218</td>\n      <td>4.0</td>\n      <td>4.0</td>\n      <td>1.0</td>\n      <td>8425</td>\n      <td>8425.0</td>\n      <td>8.421000e+10</td>\n      <td>Alb-Donau-Kreis</td>\n      <td>Landkreis</td>\n      <td>43.0</td>\n      <td>...</td>\n      <td>11100394</td>\n      <td>160.264582</td>\n      <td>17790</td>\n      <td>54</td>\n      <td>263</td>\n      <td>2</td>\n      <td>133,5</td>\n      <td>4.607931</td>\n      <td>0.164854</td>\n      <td>0</td>\n    </tr>\n    <tr>\n      <th>219</th>\n      <td>220</td>\n      <td>4.0</td>\n      <td>4.0</td>\n      <td>1.0</td>\n      <td>8435</td>\n      <td>8435.0</td>\n      <td>8.435500e+10</td>\n      <td>Bodenseekreis</td>\n      <td>Landkreis</td>\n      <td>43.0</td>\n      <td>...</td>\n      <td>11100394</td>\n      <td>160.264582</td>\n      <td>17790</td>\n      <td>54</td>\n      <td>205</td>\n      <td>0</td>\n      <td>94,3</td>\n      <td>2.244383</td>\n      <td>0.079777</td>\n      <td>0</td>\n    </tr>\n  </tbody>\n</table>\n<p>12 rows × 47 columns</p>\n</div>"
     },
     "metadata": {},
     "execution_count": 29
    }
   ],
   "source": [
    "# add id to df_BW\n",
    "\n",
    "df_BW['id'] = df_BW['GEN'].apply(lambda x: county_id[x] if x in county_id else 0)\n",
    "\n",
    "df_BW[df_BW['id'] == 0]"
   ]
  },
  {
   "cell_type": "code",
   "execution_count": 37,
   "metadata": {},
   "outputs": [
    {
     "output_type": "execute_result",
     "data": {
      "text/plain": [
       "['Stuttgart',\n",
       " 'Hohenlohekreis',\n",
       " 'Main-Tauber-Kreis',\n",
       " 'Baden-Baden',\n",
       " 'Heidelberg',\n",
       " 'Mannheim',\n",
       " 'Pforzheim',\n",
       " 'Enzkreis',\n",
       " 'Freiburg im Breisgau',\n",
       " 'Ulm',\n",
       " 'Alb-Donau-Kreis',\n",
       " 'Bodenseekreis']"
      ]
     },
     "metadata": {},
     "execution_count": 37
    }
   ],
   "source": [
    "# adjust 12 names of county\n",
    "\n",
    "df_BW[df_BW['id'] == 0]['GEN'].to_list()"
   ]
  },
  {
   "cell_type": "code",
   "execution_count": null,
   "metadata": {},
   "outputs": [],
   "source": [
    "diff_county_names = {'Stuttgart': 'Stuttgart Städte',\n",
    " 'Hohenlohekreis': 'Hohenlohe',\n",
    " 'Main-Tauber-Kreis': 'Main-Tauber',\n",
    " 'Baden-Baden': 'Baden-Baden Städte',\n",
    " 'Heidelberg': 'Heidelberg Städte',\n",
    " 'Mannheim': 'Mannheim Städte',\n",
    " 'Pforzheim': 'Pforzheim Städte',\n",
    " 'Enzkreis': 'Enz',\n",
    " 'Freiburg im Breisgau',\n",
    " 'Ulm': 'Ulm Städte',\n",
    " 'Alb-Donau-Kreis': 'Alb-Donau',\n",
    " 'Bodenseekreis': 'Bodensee'}\n",
    "\n",
    " df_BW['GEN'].replace(diff_county_names, inplace=True)\n",
    " df_BW.head(10)"
   ]
  }
 ]
}