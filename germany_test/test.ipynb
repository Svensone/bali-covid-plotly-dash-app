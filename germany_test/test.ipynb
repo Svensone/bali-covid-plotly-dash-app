{
 "metadata": {
  "language_info": {
   "codemirror_mode": {
    "name": "ipython",
    "version": 3
   },
   "file_extension": ".py",
   "mimetype": "text/x-python",
   "name": "python",
   "nbconvert_exporter": "python",
   "pygments_lexer": "ipython3",
   "version": "3.7.6-final"
  },
  "orig_nbformat": 2,
  "kernelspec": {
   "name": "python3",
   "display_name": "Python 3"
  }
 },
 "nbformat": 4,
 "nbformat_minor": 2,
 "cells": [
  {
   "cell_type": "code",
   "execution_count": 4,
   "metadata": {},
   "outputs": [],
   "source": [
    "import pandas as pd\n",
    "import json"
   ]
  },
  {
   "cell_type": "code",
   "execution_count": 3,
   "metadata": {},
   "outputs": [
    {
     "output_type": "execute_result",
     "data": {
      "text/plain": [
       "                                      LK   Fälle    Inzidenz\n",
       "0                               LK Regen     441  569.693838\n",
       "1    LK Sächsische Schweiz-Osterzgebirge    1293  526.495810\n",
       "2                             LK Bautzen    1480  493.731610\n",
       "3                    LK Altenburger Land     411  459.767543\n",
       "4                              LK Meißen    1091  451.354270\n",
       "..                                   ...     ...         ...\n",
       "408                             SK Emden       9   18.031375\n",
       "409               LK Schleswig-Flensburg      23   11.433912\n",
       "410                           LK Rostock      24   11.121718\n",
       "411                 LK Lüchow-Dannenberg       2    4.131207\n",
       "412                                  NaN  123793         NaN\n",
       "\n",
       "[413 rows x 3 columns]"
      ],
      "text/html": "<div>\n<style scoped>\n    .dataframe tbody tr th:only-of-type {\n        vertical-align: middle;\n    }\n\n    .dataframe tbody tr th {\n        vertical-align: top;\n    }\n\n    .dataframe thead th {\n        text-align: right;\n    }\n</style>\n<table border=\"1\" class=\"dataframe\">\n  <thead>\n    <tr style=\"text-align: right;\">\n      <th></th>\n      <th>LK</th>\n      <th>Fälle</th>\n      <th>Inzidenz</th>\n    </tr>\n  </thead>\n  <tbody>\n    <tr>\n      <th>0</th>\n      <td>LK Regen</td>\n      <td>441</td>\n      <td>569.693838</td>\n    </tr>\n    <tr>\n      <th>1</th>\n      <td>LK Sächsische Schweiz-Osterzgebirge</td>\n      <td>1293</td>\n      <td>526.495810</td>\n    </tr>\n    <tr>\n      <th>2</th>\n      <td>LK Bautzen</td>\n      <td>1480</td>\n      <td>493.731610</td>\n    </tr>\n    <tr>\n      <th>3</th>\n      <td>LK Altenburger Land</td>\n      <td>411</td>\n      <td>459.767543</td>\n    </tr>\n    <tr>\n      <th>4</th>\n      <td>LK Meißen</td>\n      <td>1091</td>\n      <td>451.354270</td>\n    </tr>\n    <tr>\n      <th>...</th>\n      <td>...</td>\n      <td>...</td>\n      <td>...</td>\n    </tr>\n    <tr>\n      <th>408</th>\n      <td>SK Emden</td>\n      <td>9</td>\n      <td>18.031375</td>\n    </tr>\n    <tr>\n      <th>409</th>\n      <td>LK Schleswig-Flensburg</td>\n      <td>23</td>\n      <td>11.433912</td>\n    </tr>\n    <tr>\n      <th>410</th>\n      <td>LK Rostock</td>\n      <td>24</td>\n      <td>11.121718</td>\n    </tr>\n    <tr>\n      <th>411</th>\n      <td>LK Lüchow-Dannenberg</td>\n      <td>2</td>\n      <td>4.131207</td>\n    </tr>\n    <tr>\n      <th>412</th>\n      <td>NaN</td>\n      <td>123793</td>\n      <td>NaN</td>\n    </tr>\n  </tbody>\n</table>\n<p>413 rows × 3 columns</p>\n</div>"
     },
     "metadata": {},
     "execution_count": 3
    }
   ],
   "source": [
    "df = pd.read_excel('2020-12-09LandkreisFaelle.xlsx')\n",
    "df"
   ]
  },
  {
   "cell_type": "code",
   "execution_count": 5,
   "metadata": {},
   "outputs": [
    {
     "output_type": "error",
     "ename": "TypeError",
     "evalue": "load() takes 1 positional argument but 2 were given",
     "traceback": [
      "\u001b[1;31m---------------------------------------------------------------------------\u001b[0m",
      "\u001b[1;31mTypeError\u001b[0m                                 Traceback (most recent call last)",
      "\u001b[1;32m<ipython-input-5-c5dbf03a0492>\u001b[0m in \u001b[0;36m<module>\u001b[1;34m\u001b[0m\n\u001b[0;32m      1\u001b[0m \u001b[1;31m## get geojson\u001b[0m\u001b[1;33m\u001b[0m\u001b[1;33m\u001b[0m\u001b[1;33m\u001b[0m\u001b[0m\n\u001b[0;32m      2\u001b[0m \u001b[1;33m\u001b[0m\u001b[0m\n\u001b[1;32m----> 3\u001b[1;33m \u001b[0mgeojson_ger\u001b[0m \u001b[1;33m=\u001b[0m \u001b[0mjson\u001b[0m\u001b[1;33m.\u001b[0m\u001b[0mload\u001b[0m\u001b[1;33m(\u001b[0m\u001b[0mopen\u001b[0m\u001b[1;33m(\u001b[0m\u001b[1;34m'deutschland_gemeinden_simplify20.geojson'\u001b[0m\u001b[1;33m)\u001b[0m\u001b[1;33m,\u001b[0m \u001b[1;34m'r'\u001b[0m\u001b[1;33m)\u001b[0m\u001b[1;33m\u001b[0m\u001b[1;33m\u001b[0m\u001b[0m\n\u001b[0m\u001b[0;32m      4\u001b[0m \u001b[0mgeojson_ger\u001b[0m\u001b[1;33m[\u001b[0m\u001b[1;34m'features'\u001b[0m\u001b[1;33m]\u001b[0m\u001b[1;33m[\u001b[0m\u001b[1;36m0\u001b[0m\u001b[1;33m]\u001b[0m\u001b[1;33m\u001b[0m\u001b[1;33m\u001b[0m\u001b[0m\n",
      "\u001b[1;31mTypeError\u001b[0m: load() takes 1 positional argument but 2 were given"
     ]
    }
   ],
   "source": [
    "## get geojson\n",
    "\n",
    "geojson_ger = json.load(open('deutschland_gemeinden_simplify20.geojson', 'r'))\n",
    "geojson_ger['features'][0]"
   ]
  },
  {
   "cell_type": "code",
   "execution_count": null,
   "metadata": {},
   "outputs": [],
   "source": []
  }
 ]
}